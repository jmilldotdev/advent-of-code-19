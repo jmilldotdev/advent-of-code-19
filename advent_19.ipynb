{
 "cells": [
  {
   "cell_type": "markdown",
   "metadata": {
    "Collapsed": "false"
   },
   "source": [
    "## Advent of Code 2019\n",
    "\n",
    "https://adventofcode.com/2019"
   ]
  },
  {
   "cell_type": "code",
   "execution_count": 10,
   "metadata": {
    "Collapsed": "false"
   },
   "outputs": [],
   "source": [
    "from pathlib import Path\n",
    "import numpy as np"
   ]
  },
  {
   "cell_type": "code",
   "execution_count": 52,
   "metadata": {
    "Collapsed": "false"
   },
   "outputs": [],
   "source": [
    "input_dir = Path('./inputs')\n",
    "def load_input(day_num, sep):\n",
    "    with open(input_dir/f'input{day_num}.txt', 'r') as f:\n",
    "        data = f.read().split(sep)[:-1]\n",
    "    return [dp.strip() for dp in data]"
   ]
  },
  {
   "cell_type": "markdown",
   "metadata": {
    "Collapsed": "true"
   },
   "source": [
    "### Day 1"
   ]
  },
  {
   "cell_type": "code",
   "execution_count": 54,
   "metadata": {
    "Collapsed": "false"
   },
   "outputs": [
    {
     "data": {
      "text/plain": [
       "[90859, 127415]"
      ]
     },
     "execution_count": 54,
     "metadata": {},
     "output_type": "execute_result"
    }
   ],
   "source": [
    "data = load_input(1, '\\n')\n",
    "data = [int(dp) for dp in data]\n",
    "data[0:2]"
   ]
  },
  {
   "cell_type": "markdown",
   "metadata": {
    "Collapsed": "false"
   },
   "source": [
    "#### Part 1"
   ]
  },
  {
   "cell_type": "code",
   "execution_count": 55,
   "metadata": {
    "Collapsed": "false"
   },
   "outputs": [],
   "source": [
    "def fuel_fn(mass):\n",
    "    return int(np.floor(mass/3) - 2)"
   ]
  },
  {
   "cell_type": "code",
   "execution_count": 56,
   "metadata": {
    "Collapsed": "false"
   },
   "outputs": [],
   "source": [
    "assert(fuel_fn(12)) == 2\n",
    "assert(fuel_fn(14)) == 2\n",
    "assert(fuel_fn(1969)) == 654\n",
    "assert(fuel_fn(100756)) == 33583"
   ]
  },
  {
   "cell_type": "markdown",
   "metadata": {
    "Collapsed": "false"
   },
   "source": [
    "**Answer**"
   ]
  },
  {
   "cell_type": "code",
   "execution_count": 57,
   "metadata": {
    "Collapsed": "false"
   },
   "outputs": [
    {
     "data": {
      "text/plain": [
       "3262991"
      ]
     },
     "execution_count": 57,
     "metadata": {},
     "output_type": "execute_result"
    }
   ],
   "source": [
    "np.sum([fuel_fn(mass) for mass in data])"
   ]
  },
  {
   "cell_type": "markdown",
   "metadata": {
    "Collapsed": "false"
   },
   "source": [
    "#### Part 2"
   ]
  },
  {
   "cell_type": "code",
   "execution_count": 34,
   "metadata": {
    "Collapsed": "false"
   },
   "outputs": [],
   "source": [
    "def total_fuel_fn(initial_mass):\n",
    "    total = 0\n",
    "    req = fuel_fn(initial_mass)\n",
    "    total += req\n",
    "    while req > 0:\n",
    "        req = max(fuel_fn(req), 0)\n",
    "        total += req\n",
    "    return total"
   ]
  },
  {
   "cell_type": "code",
   "execution_count": 35,
   "metadata": {
    "Collapsed": "false"
   },
   "outputs": [],
   "source": [
    "assert(total_fuel_fn(14)) == 2\n",
    "assert(total_fuel_fn(1969)) == 966\n",
    "assert(total_fuel_fn(100756)) == 50346"
   ]
  },
  {
   "cell_type": "markdown",
   "metadata": {
    "Collapsed": "false"
   },
   "source": [
    "**Answer**"
   ]
  },
  {
   "cell_type": "code",
   "execution_count": 36,
   "metadata": {
    "Collapsed": "false"
   },
   "outputs": [
    {
     "data": {
      "text/plain": [
       "4891620"
      ]
     },
     "execution_count": 36,
     "metadata": {},
     "output_type": "execute_result"
    }
   ],
   "source": [
    "np.sum([total_fuel_fn(initial_mass) for initial_mass in data])"
   ]
  },
  {
   "cell_type": "markdown",
   "metadata": {
    "Collapsed": "false"
   },
   "source": [
    "### Day 2"
   ]
  },
  {
   "cell_type": "code",
   "execution_count": 102,
   "metadata": {
    "Collapsed": "false"
   },
   "outputs": [
    {
     "data": {
      "text/plain": [
       "[1, 0]"
      ]
     },
     "execution_count": 102,
     "metadata": {},
     "output_type": "execute_result"
    }
   ],
   "source": [
    "data = load_input(2, ',')\n",
    "data = [int(dp) for dp in data]\n",
    "data[0:2]"
   ]
  },
  {
   "cell_type": "code",
   "execution_count": null,
   "metadata": {},
   "outputs": [],
   "source": []
  },
  {
   "cell_type": "code",
   "execution_count": 103,
   "metadata": {
    "Collapsed": "false"
   },
   "outputs": [],
   "source": [
    "opcode_slice_size = 4\n",
    "\n",
    "def eval_op(inputs, op):\n",
    "    if op == 1:\n",
    "        return np.sum(inputs)\n",
    "    elif op == 2:\n",
    "        return np.product(inputs)\n",
    "\n",
    "def eval_opcode_slice(intcode_program, start_index, termination_flag):\n",
    "    opcode_slice = intcode_program[start_index:start_index+opcode_slice_size]\n",
    "    op = opcode_slice[0]\n",
    "    if op == 99:\n",
    "        termination_flag = True\n",
    "        print('Terminating program')\n",
    "        return intcode_program, termination_flag\n",
    "    inputs = [intcode_program[idx] for idx in opcode_slice[1:3]]\n",
    "    output_loc = opcode_slice[3]\n",
    "    eval_result = eval_op(inputs, op)\n",
    "    intcode_program[output_loc] = eval_result\n",
    "    return intcode_program, termination_flag\n",
    "\n",
    "def eval_opcode(intcode_program):\n",
    "    termination_flag = False\n",
    "    start_index = 0\n",
    "    while termination_flag == False:\n",
    "        intcode_program, termination_flag = eval_opcode_slice(intcode_program, start_index, termination_flag)\n",
    "        start_index += opcode_slice_size\n",
    "    print(intcode_program)\n",
    "    return(intcode_program)"
   ]
  },
  {
   "cell_type": "code",
   "execution_count": 104,
   "metadata": {
    "Collapsed": "false"
   },
   "outputs": [
    {
     "name": "stdout",
     "output_type": "stream",
     "text": [
      "Terminating program\n",
      "[2, 4, 4, 5, 99, 9801]\n"
     ]
    }
   ],
   "source": [
    "prog = [2,4,4,5,99,0]\n",
    "res = eval_opcode(prog)"
   ]
  },
  {
   "cell_type": "code",
   "execution_count": 105,
   "metadata": {
    "Collapsed": "false"
   },
   "outputs": [],
   "source": [
    "data[1:3] = [12, 2]"
   ]
  },
  {
   "cell_type": "code",
   "execution_count": 106,
   "metadata": {},
   "outputs": [],
   "source": [
    "prog = data.copy()"
   ]
  },
  {
   "cell_type": "code",
   "execution_count": 107,
   "metadata": {},
   "outputs": [
    {
     "name": "stdout",
     "output_type": "stream",
     "text": [
      "Terminating program\n",
      "[8017076, 12, 2, 2, 1, 1, 2, 3, 1, 3, 4, 3, 1, 5, 0, 3, 2, 10, 1, 48, 1, 6, 19, 50, 2, 23, 6, 100, 1, 5, 27, 101, 1, 31, 9, 104, 2, 10, 35, 416, 1, 5, 39, 417, 2, 43, 10, 1668, 1, 47, 6, 1670, 2, 51, 6, 3340, 2, 55, 13, 16700, 2, 6, 59, 33400, 1, 63, 5, 33401, 1, 6, 67, 33403, 2, 71, 9, 100209, 1, 6, 75, 100211, 2, 13, 79, 501055, 1, 9, 83, 501058, 1, 87, 13, 501063, 2, 91, 10, 2004252, 1, 6, 95, 2004254, 1, 99, 13, 2004259, 1, 13, 103, 2004264, 2, 107, 10, 8017056, 1, 9, 111, 8017059, 1, 115, 10, 8017063, 1, 5, 119, 8017064, 1, 6, 123, 8017066, 1, 10, 127, 8017070, 1, 2, 131, 8017072, 1, 135, 10, 0, 99, 2, 14, 0]\n"
     ]
    }
   ],
   "source": [
    "res = eval_opcode(prog)"
   ]
  },
  {
   "cell_type": "code",
   "execution_count": null,
   "metadata": {},
   "outputs": [],
   "source": []
  }
 ],
 "metadata": {
  "kernelspec": {
   "display_name": "Python [conda env:root] *",
   "language": "python",
   "name": "conda-root-py"
  },
  "language_info": {
   "codemirror_mode": {
    "name": "ipython",
    "version": 3
   },
   "file_extension": ".py",
   "mimetype": "text/x-python",
   "name": "python",
   "nbconvert_exporter": "python",
   "pygments_lexer": "ipython3",
   "version": "3.7.3"
  }
 },
 "nbformat": 4,
 "nbformat_minor": 4
}
