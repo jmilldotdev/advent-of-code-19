{
 "cells": [
  {
   "cell_type": "markdown",
   "metadata": {
    "Collapsed": "false"
   },
   "source": [
    "## Advent of Code 2019\n",
    "\n",
    "https://adventofcode.com/2019"
   ]
  },
  {
   "cell_type": "code",
   "execution_count": 10,
   "metadata": {
    "Collapsed": "false"
   },
   "outputs": [],
   "source": [
    "from pathlib import Path\n",
    "import numpy as np"
   ]
  },
  {
   "cell_type": "code",
   "execution_count": 52,
   "metadata": {
    "Collapsed": "false"
   },
   "outputs": [],
   "source": [
    "input_dir = Path('./inputs')\n",
    "def load_input(day_num, sep):\n",
    "    with open(input_dir/f'input{day_num}.txt', 'r') as f:\n",
    "        data = f.read().split(sep)[:-1]\n",
    "    return [dp.strip() for dp in data]"
   ]
  },
  {
   "cell_type": "markdown",
   "metadata": {
    "Collapsed": "true"
   },
   "source": [
    "### Day 1"
   ]
  },
  {
   "cell_type": "code",
   "execution_count": 54,
   "metadata": {
    "Collapsed": "false"
   },
   "outputs": [
    {
     "data": {
      "text/plain": [
       "[90859, 127415]"
      ]
     },
     "execution_count": 54,
     "metadata": {},
     "output_type": "execute_result"
    }
   ],
   "source": [
    "data = load_input(1, '\\n')\n",
    "data = [int(dp) for dp in data]\n",
    "data[0:2]"
   ]
  },
  {
   "cell_type": "markdown",
   "metadata": {
    "Collapsed": "false"
   },
   "source": [
    "#### Part 1"
   ]
  },
  {
   "cell_type": "code",
   "execution_count": 55,
   "metadata": {
    "Collapsed": "false"
   },
   "outputs": [],
   "source": [
    "def fuel_fn(mass):\n",
    "    return int(np.floor(mass/3) - 2)"
   ]
  },
  {
   "cell_type": "code",
   "execution_count": 56,
   "metadata": {
    "Collapsed": "false"
   },
   "outputs": [],
   "source": [
    "assert(fuel_fn(12)) == 2\n",
    "assert(fuel_fn(14)) == 2\n",
    "assert(fuel_fn(1969)) == 654\n",
    "assert(fuel_fn(100756)) == 33583"
   ]
  },
  {
   "cell_type": "markdown",
   "metadata": {
    "Collapsed": "false"
   },
   "source": [
    "**Answer**"
   ]
  },
  {
   "cell_type": "code",
   "execution_count": 57,
   "metadata": {
    "Collapsed": "false"
   },
   "outputs": [
    {
     "data": {
      "text/plain": [
       "3262991"
      ]
     },
     "execution_count": 57,
     "metadata": {},
     "output_type": "execute_result"
    }
   ],
   "source": [
    "np.sum([fuel_fn(mass) for mass in data])"
   ]
  },
  {
   "cell_type": "markdown",
   "metadata": {
    "Collapsed": "false"
   },
   "source": [
    "#### Part 2"
   ]
  },
  {
   "cell_type": "code",
   "execution_count": 34,
   "metadata": {
    "Collapsed": "false"
   },
   "outputs": [],
   "source": [
    "def total_fuel_fn(initial_mass):\n",
    "    total = 0\n",
    "    req = fuel_fn(initial_mass)\n",
    "    total += req\n",
    "    while req > 0:\n",
    "        req = max(fuel_fn(req), 0)\n",
    "        total += req\n",
    "    return total"
   ]
  },
  {
   "cell_type": "code",
   "execution_count": 35,
   "metadata": {
    "Collapsed": "false"
   },
   "outputs": [],
   "source": [
    "assert(total_fuel_fn(14)) == 2\n",
    "assert(total_fuel_fn(1969)) == 966\n",
    "assert(total_fuel_fn(100756)) == 50346"
   ]
  },
  {
   "cell_type": "markdown",
   "metadata": {
    "Collapsed": "false"
   },
   "source": [
    "**Answer**"
   ]
  },
  {
   "cell_type": "code",
   "execution_count": 36,
   "metadata": {
    "Collapsed": "false"
   },
   "outputs": [
    {
     "data": {
      "text/plain": [
       "4891620"
      ]
     },
     "execution_count": 36,
     "metadata": {},
     "output_type": "execute_result"
    }
   ],
   "source": [
    "np.sum([total_fuel_fn(initial_mass) for initial_mass in data])"
   ]
  },
  {
   "cell_type": "markdown",
   "metadata": {
    "Collapsed": "false"
   },
   "source": [
    "### Day 2"
   ]
  },
  {
   "cell_type": "code",
   "execution_count": 102,
   "metadata": {
    "Collapsed": "false"
   },
   "outputs": [
    {
     "data": {
      "text/plain": [
       "[1, 0]"
      ]
     },
     "execution_count": 102,
     "metadata": {},
     "output_type": "execute_result"
    }
   ],
   "source": [
    "data = load_input(2, ',')\n",
    "data = [int(dp) for dp in data]\n",
    "data[0:2]"
   ]
  },
  {
   "cell_type": "markdown",
   "metadata": {
    "Collapsed": "false"
   },
   "source": [
    "#### Part 1"
   ]
  },
  {
   "cell_type": "code",
   "execution_count": 128,
   "metadata": {
    "Collapsed": "false"
   },
   "outputs": [],
   "source": [
    "opcode_slice_size = 4\n",
    "\n",
    "def eval_instruction(inputs, instruction):\n",
    "    if instruction == 1:\n",
    "        return np.sum(inputs)\n",
    "    elif instruction == 2:\n",
    "        return np.product(inputs)\n",
    "\n",
    "def eval_opcode_slice(intcode_program, start_index, termination_flag):\n",
    "    opcode_slice = intcode_program[start_index:start_index+opcode_slice_size]\n",
    "    instruction = opcode_slice[0]\n",
    "    if instruction == 99:\n",
    "        termination_flag = True\n",
    "        return intcode_program, termination_flag\n",
    "    inputs = [intcode_program[idx] for idx in opcode_slice[1:3]]\n",
    "    output_loc = opcode_slice[3]\n",
    "    eval_result = eval_instruction(inputs, instruction)\n",
    "    intcode_program[output_loc] = eval_result\n",
    "    return intcode_program, termination_flag\n",
    "\n",
    "def eval_opcode(intcode_program):\n",
    "    termination_flag = False\n",
    "    start_index = 0\n",
    "    while termination_flag == False:\n",
    "        intcode_program, termination_flag = eval_opcode_slice(intcode_program, start_index, termination_flag)\n",
    "        start_index += opcode_slice_size\n",
    "    return intcode_program "
   ]
  },
  {
   "cell_type": "code",
   "execution_count": 115,
   "metadata": {
    "Collapsed": "false"
   },
   "outputs": [
    {
     "name": "stdout",
     "output_type": "stream",
     "text": [
      "Terminating program\n"
     ]
    }
   ],
   "source": [
    "prog = [2,4,4,5,99,0]\n",
    "res = eval_opcode(prog)"
   ]
  },
  {
   "cell_type": "code",
   "execution_count": 119,
   "metadata": {
    "Collapsed": "false"
   },
   "outputs": [],
   "source": [
    "data[1:3] = [12, 2]"
   ]
  },
  {
   "cell_type": "markdown",
   "metadata": {
    "Collapsed": "false"
   },
   "source": [
    "**Answer**"
   ]
  },
  {
   "cell_type": "code",
   "execution_count": 121,
   "metadata": {
    "Collapsed": "false"
   },
   "outputs": [
    {
     "name": "stdout",
     "output_type": "stream",
     "text": [
      "Terminating program\n"
     ]
    },
    {
     "data": {
      "text/plain": [
       "8017076"
      ]
     },
     "execution_count": 121,
     "metadata": {},
     "output_type": "execute_result"
    }
   ],
   "source": [
    "res = eval_opcode(data.copy())\n",
    "res[0]"
   ]
  },
  {
   "cell_type": "markdown",
   "metadata": {
    "Collapsed": "false"
   },
   "source": [
    "#### Part 2"
   ]
  },
  {
   "cell_type": "code",
   "execution_count": 122,
   "metadata": {
    "Collapsed": "false"
   },
   "outputs": [],
   "source": [
    "def test_inputs(noun, verb):\n",
    "    prog = data.copy()\n",
    "    prog[1:3] = [noun, verb]\n",
    "    res = eval_opcode(prog)\n",
    "    return res[0]"
   ]
  },
  {
   "cell_type": "code",
   "execution_count": 130,
   "metadata": {
    "Collapsed": "false"
   },
   "outputs": [
    {
     "name": "stdout",
     "output_type": "stream",
     "text": [
      "31 46\n",
      "3146\n"
     ]
    }
   ],
   "source": [
    "target = 19690720\n",
    "endpoint = 100\n",
    "for noun in range(endpoint):\n",
    "    for verb in range(endpoint):\n",
    "        res = test_inputs(noun, verb)\n",
    "        if res == target:\n",
    "            print(noun, verb)\n",
    "            print(100 * noun + verb)\n",
    "            break"
   ]
  },
  {
   "cell_type": "code",
   "execution_count": null,
   "metadata": {
    "Collapsed": "false"
   },
   "outputs": [],
   "source": []
  }
 ],
 "metadata": {
  "kernelspec": {
   "display_name": "Python [conda env:root] *",
   "language": "python",
   "name": "conda-root-py"
  },
  "language_info": {
   "codemirror_mode": {
    "name": "ipython",
    "version": 3
   },
   "file_extension": ".py",
   "mimetype": "text/x-python",
   "name": "python",
   "nbconvert_exporter": "python",
   "pygments_lexer": "ipython3",
   "version": "3.7.3"
  }
 },
 "nbformat": 4,
 "nbformat_minor": 4
}
