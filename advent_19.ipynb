{
 "cells": [
  {
   "cell_type": "markdown",
   "metadata": {
    "Collapsed": "false"
   },
   "source": [
    "## Advent of Code 2019\n",
    "\n",
    "https://adventofcode.com/2019"
   ]
  },
  {
   "cell_type": "code",
   "execution_count": 1,
   "metadata": {
    "Collapsed": "false"
   },
   "outputs": [],
   "source": [
    "from pathlib import Path\n",
    "import numpy as np"
   ]
  },
  {
   "cell_type": "code",
   "execution_count": 2,
   "metadata": {
    "Collapsed": "false"
   },
   "outputs": [],
   "source": [
    "input_dir = Path('./inputs')\n",
    "def load_input(day_num, sep):\n",
    "    with open(input_dir/f'input{day_num}.txt', 'r') as f:\n",
    "        data = f.read().split(sep)\n",
    "    return [dp.strip() for dp in data]"
   ]
  },
  {
   "cell_type": "markdown",
   "metadata": {
    "Collapsed": "true"
   },
   "source": [
    "### Day 1"
   ]
  },
  {
   "cell_type": "code",
   "execution_count": 4,
   "metadata": {
    "Collapsed": "false"
   },
   "outputs": [
    {
     "data": {
      "text/plain": [
       "[90859, 127415]"
      ]
     },
     "execution_count": 4,
     "metadata": {},
     "output_type": "execute_result"
    }
   ],
   "source": [
    "data = load_input(1, '\\n')\n",
    "data = data[:-1]\n",
    "data = [int(dp) for dp in data]\n",
    "data[0:2]"
   ]
  },
  {
   "cell_type": "markdown",
   "metadata": {
    "Collapsed": "false"
   },
   "source": [
    "#### Part 1"
   ]
  },
  {
   "cell_type": "code",
   "execution_count": 5,
   "metadata": {
    "Collapsed": "false"
   },
   "outputs": [],
   "source": [
    "def fuel_fn(mass):\n",
    "    return int(np.floor(mass/3) - 2)"
   ]
  },
  {
   "cell_type": "code",
   "execution_count": 6,
   "metadata": {
    "Collapsed": "false"
   },
   "outputs": [],
   "source": [
    "assert(fuel_fn(12)) == 2\n",
    "assert(fuel_fn(14)) == 2\n",
    "assert(fuel_fn(1969)) == 654\n",
    "assert(fuel_fn(100756)) == 33583"
   ]
  },
  {
   "cell_type": "markdown",
   "metadata": {
    "Collapsed": "false"
   },
   "source": [
    "**Answer**"
   ]
  },
  {
   "cell_type": "code",
   "execution_count": 7,
   "metadata": {
    "Collapsed": "false"
   },
   "outputs": [
    {
     "data": {
      "text/plain": [
       "3262991"
      ]
     },
     "execution_count": 7,
     "metadata": {},
     "output_type": "execute_result"
    }
   ],
   "source": [
    "np.sum([fuel_fn(mass) for mass in data])"
   ]
  },
  {
   "cell_type": "markdown",
   "metadata": {
    "Collapsed": "false"
   },
   "source": [
    "#### Part 2"
   ]
  },
  {
   "cell_type": "code",
   "execution_count": 8,
   "metadata": {
    "Collapsed": "false"
   },
   "outputs": [],
   "source": [
    "def total_fuel_fn(initial_mass):\n",
    "    total = 0\n",
    "    req = fuel_fn(initial_mass)\n",
    "    total += req\n",
    "    while req > 0:\n",
    "        req = max(fuel_fn(req), 0)\n",
    "        total += req\n",
    "    return total"
   ]
  },
  {
   "cell_type": "code",
   "execution_count": 9,
   "metadata": {
    "Collapsed": "false"
   },
   "outputs": [],
   "source": [
    "assert(total_fuel_fn(14)) == 2\n",
    "assert(total_fuel_fn(1969)) == 966\n",
    "assert(total_fuel_fn(100756)) == 50346"
   ]
  },
  {
   "cell_type": "markdown",
   "metadata": {
    "Collapsed": "false"
   },
   "source": [
    "**Answer**"
   ]
  },
  {
   "cell_type": "code",
   "execution_count": 10,
   "metadata": {
    "Collapsed": "false"
   },
   "outputs": [
    {
     "data": {
      "text/plain": [
       "4891620"
      ]
     },
     "execution_count": 10,
     "metadata": {},
     "output_type": "execute_result"
    }
   ],
   "source": [
    "np.sum([total_fuel_fn(initial_mass) for initial_mass in data])"
   ]
  },
  {
   "cell_type": "markdown",
   "metadata": {
    "Collapsed": "true"
   },
   "source": [
    "### Day 2"
   ]
  },
  {
   "cell_type": "code",
   "execution_count": 11,
   "metadata": {
    "Collapsed": "false"
   },
   "outputs": [
    {
     "data": {
      "text/plain": [
       "[1, 0]"
      ]
     },
     "execution_count": 11,
     "metadata": {},
     "output_type": "execute_result"
    }
   ],
   "source": [
    "data = load_input(2, ',')\n",
    "data = data[:-1]\n",
    "data = [int(dp) for dp in data]\n",
    "data[0:2]"
   ]
  },
  {
   "cell_type": "markdown",
   "metadata": {
    "Collapsed": "false"
   },
   "source": [
    "#### Part 1"
   ]
  },
  {
   "cell_type": "code",
   "execution_count": 12,
   "metadata": {
    "Collapsed": "false"
   },
   "outputs": [],
   "source": [
    "opcode_slice_size = 4\n",
    "\n",
    "def eval_instruction(inputs, instruction):\n",
    "    if instruction == 1:\n",
    "        return np.sum(inputs)\n",
    "    elif instruction == 2:\n",
    "        return np.product(inputs)\n",
    "\n",
    "def eval_opcode_slice(intcode_program, start_index, termination_flag):\n",
    "    opcode_slice = intcode_program[start_index:start_index+opcode_slice_size]\n",
    "    instruction = opcode_slice[0]\n",
    "    if instruction == 99:\n",
    "        termination_flag = True\n",
    "        return intcode_program, termination_flag\n",
    "    inputs = [intcode_program[idx] for idx in opcode_slice[1:3]]\n",
    "    output_loc = opcode_slice[3]\n",
    "    eval_result = eval_instruction(inputs, instruction)\n",
    "    intcode_program[output_loc] = eval_result\n",
    "    return intcode_program, termination_flag\n",
    "\n",
    "def eval_opcode(intcode_program):\n",
    "    termination_flag = False\n",
    "    start_index = 0\n",
    "    while termination_flag == False:\n",
    "        intcode_program, termination_flag = eval_opcode_slice(intcode_program, start_index, termination_flag)\n",
    "        start_index += opcode_slice_size\n",
    "    return intcode_program "
   ]
  },
  {
   "cell_type": "code",
   "execution_count": 13,
   "metadata": {
    "Collapsed": "false"
   },
   "outputs": [],
   "source": [
    "prog = [2,4,4,5,99,0]\n",
    "res = eval_opcode(prog)"
   ]
  },
  {
   "cell_type": "code",
   "execution_count": 14,
   "metadata": {
    "Collapsed": "false"
   },
   "outputs": [],
   "source": [
    "data[1:3] = [12, 2]"
   ]
  },
  {
   "cell_type": "markdown",
   "metadata": {
    "Collapsed": "false"
   },
   "source": [
    "**Answer**"
   ]
  },
  {
   "cell_type": "code",
   "execution_count": 15,
   "metadata": {
    "Collapsed": "false"
   },
   "outputs": [
    {
     "data": {
      "text/plain": [
       "8017076"
      ]
     },
     "execution_count": 15,
     "metadata": {},
     "output_type": "execute_result"
    }
   ],
   "source": [
    "res = eval_opcode(data.copy())\n",
    "res[0]"
   ]
  },
  {
   "cell_type": "markdown",
   "metadata": {
    "Collapsed": "false"
   },
   "source": [
    "#### Part 2"
   ]
  },
  {
   "cell_type": "code",
   "execution_count": 16,
   "metadata": {
    "Collapsed": "false"
   },
   "outputs": [],
   "source": [
    "def test_inputs(noun, verb):\n",
    "    prog = data.copy()\n",
    "    prog[1:3] = [noun, verb]\n",
    "    res = eval_opcode(prog)\n",
    "    return res[0]"
   ]
  },
  {
   "cell_type": "code",
   "execution_count": 17,
   "metadata": {
    "Collapsed": "false"
   },
   "outputs": [
    {
     "name": "stdout",
     "output_type": "stream",
     "text": [
      "31 46\n",
      "3146\n"
     ]
    }
   ],
   "source": [
    "target = 19690720\n",
    "endpoint = 100\n",
    "for noun in range(endpoint):\n",
    "    for verb in range(endpoint):\n",
    "        res = test_inputs(noun, verb)\n",
    "        if res == target:\n",
    "            print(noun, verb)\n",
    "            print(100 * noun + verb)\n",
    "            break"
   ]
  },
  {
   "cell_type": "markdown",
   "metadata": {
    "Collapsed": "true"
   },
   "source": [
    "### Day 3"
   ]
  },
  {
   "cell_type": "code",
   "execution_count": 7,
   "metadata": {
    "Collapsed": "false"
   },
   "outputs": [
    {
     "data": {
      "text/plain": [
       "2"
      ]
     },
     "execution_count": 7,
     "metadata": {},
     "output_type": "execute_result"
    }
   ],
   "source": [
    "data = load_input(3, '\\n')\n",
    "data = data[:-1]\n",
    "len(data)"
   ]
  },
  {
   "cell_type": "code",
   "execution_count": 11,
   "metadata": {
    "Collapsed": "false"
   },
   "outputs": [],
   "source": [
    "data = [wire.split(',') for wire in data]"
   ]
  },
  {
   "cell_type": "markdown",
   "metadata": {
    "Collapsed": "false"
   },
   "source": [
    "#### Part 1"
   ]
  },
  {
   "cell_type": "code",
   "execution_count": 307,
   "metadata": {
    "Collapsed": "false"
   },
   "outputs": [],
   "source": [
    "def update_distances(move, coordinates, current_position):\n",
    "    direction = move[0]\n",
    "    magnitude = int(move[1:])\n",
    "\n",
    "    if direction == 'L':\n",
    "        update = (0, -1)\n",
    "    elif direction == 'R':\n",
    "        update = (0, 1)\n",
    "    elif direction == 'D':\n",
    "        update = (1, -1)\n",
    "    elif direction == 'U':\n",
    "        update = (1, 1)\n",
    "\n",
    "\n",
    "    wire_spots = [tuple([current_position[j]+(update[1]*i) if update[0] == j else current_position[j] for j in range(2)]) for i in range(magnitude+1)]\n",
    "    coordinates.extend(wire_spots[1:])\n",
    "    current_position[update[0]] += magnitude*update[1]\n",
    "    return coordinates, current_position\n",
    "\n",
    "def find_intersections(wire_coordinates):\n",
    "    intersections = list(wire_coordinates[0].intersection(wire_coordinates[1]))\n",
    "    return intersections\n",
    "\n",
    "def manhattan(coordinates):\n",
    "    return np.sum([abs(x) for x in coordinates])\n",
    "\n",
    "def find_closest_intersection(intersections):\n",
    "    distances = [manhattan(intersection) for intersection in intersections]\n",
    "    return (intersections[np.argmin(distances)], np.min(distances))\n",
    "\n",
    "def eval_wires(wires):\n",
    "    n_wires = len(wires)\n",
    "    # Horizontal, Vertical\n",
    "    current_positions = [[0, 0] for i in range(n_wires)]\n",
    "    wire_coordinates = [[] for i in range(n_wires)]\n",
    "          \n",
    "    for wire_idx, wire in enumerate(wires):\n",
    "        current_position = current_positions[wire_idx]\n",
    "        coordinates = wire_coordinates[wire_idx]\n",
    "        for move in wire:\n",
    "            coordinates, current_position = update_distances(move, coordinates, current_position)\n",
    "    \n",
    "    wire_coordinates_set = [set(coordinate) for coordinate in wire_coordinates]\n",
    "    intersections = find_intersections(wire_coordinates_set)\n",
    "    closest_intersection = find_closest_intersection(intersections)\n",
    "    return wire_coordinates, intersections, closest_intersection"
   ]
  },
  {
   "cell_type": "code",
   "execution_count": 308,
   "metadata": {
    "Collapsed": "false"
   },
   "outputs": [],
   "source": [
    "test1 = [\n",
    "    ['R8','U5','L5','D3'],\n",
    "    ['U7','R6','D4','L4']\n",
    "]\n",
    "\n",
    "test2 = [\n",
    "    ['R75','D30','R83','U83','L12','D49','R71','U7','L72'],\n",
    "    ['U62','R66','U55','R34','D71','R55','D58','R83','U400']\n",
    "]"
   ]
  },
  {
   "cell_type": "code",
   "execution_count": 309,
   "metadata": {
    "Collapsed": "false"
   },
   "outputs": [
    {
     "data": {
      "text/plain": [
       "((3, 3), 6)"
      ]
     },
     "execution_count": 309,
     "metadata": {},
     "output_type": "execute_result"
    }
   ],
   "source": [
    "wire_coordinates, intersections, closest_intersection = eval_wires(test1)\n",
    "closest_intersection"
   ]
  },
  {
   "cell_type": "code",
   "execution_count": 310,
   "metadata": {
    "Collapsed": "false"
   },
   "outputs": [
    {
     "data": {
      "text/plain": [
       "((155, 4), 159)"
      ]
     },
     "execution_count": 310,
     "metadata": {},
     "output_type": "execute_result"
    }
   ],
   "source": [
    "wire_coordinates, intersections, closest_intersection = eval_wires(test2)\n",
    "closest_intersection"
   ]
  },
  {
   "cell_type": "markdown",
   "metadata": {
    "Collapsed": "false"
   },
   "source": [
    "**Answer**"
   ]
  },
  {
   "cell_type": "code",
   "execution_count": 311,
   "metadata": {
    "Collapsed": "false"
   },
   "outputs": [
    {
     "data": {
      "text/plain": [
       "((855, 41), 896)"
      ]
     },
     "execution_count": 311,
     "metadata": {},
     "output_type": "execute_result"
    }
   ],
   "source": [
    "wire_coordinates, intersections, closest_intersection = eval_wires(data)\n",
    "closest_intersection"
   ]
  },
  {
   "cell_type": "markdown",
   "metadata": {
    "Collapsed": "false"
   },
   "source": [
    "#### Part 2 "
   ]
  },
  {
   "cell_type": "code",
   "execution_count": 319,
   "metadata": {
    "Collapsed": "false"
   },
   "outputs": [],
   "source": [
    "def calculate_intersection_steps(wire_coordinates, intersection):\n",
    "    return np.sum([wire.index(intersection)+1 for wire in wire_coordinates])\n",
    "\n",
    "def find_min_intersection_steps(wire_coordinates, intersections):\n",
    "    return np.min([calculate_intersection_steps(wire_coordinates, intersection) for intersection in intersections])"
   ]
  },
  {
   "cell_type": "code",
   "execution_count": 320,
   "metadata": {
    "Collapsed": "false"
   },
   "outputs": [
    {
     "data": {
      "text/plain": [
       "30"
      ]
     },
     "execution_count": 320,
     "metadata": {},
     "output_type": "execute_result"
    }
   ],
   "source": [
    "wire_coordinates, intersections, closest_intersection = eval_wires(test1)\n",
    "find_min_intersection_steps(wire_coordinates, intersections)"
   ]
  },
  {
   "cell_type": "code",
   "execution_count": 321,
   "metadata": {
    "Collapsed": "false"
   },
   "outputs": [
    {
     "data": {
      "text/plain": [
       "610"
      ]
     },
     "execution_count": 321,
     "metadata": {},
     "output_type": "execute_result"
    }
   ],
   "source": [
    "wire_coordinates, intersections, closest_intersection = eval_wires(test2)\n",
    "find_min_intersection_steps(wire_coordinates, intersections)"
   ]
  },
  {
   "cell_type": "markdown",
   "metadata": {
    "Collapsed": "false"
   },
   "source": [
    "**answer**"
   ]
  },
  {
   "cell_type": "code",
   "execution_count": 322,
   "metadata": {
    "Collapsed": "false"
   },
   "outputs": [
    {
     "data": {
      "text/plain": [
       "16524"
      ]
     },
     "execution_count": 322,
     "metadata": {},
     "output_type": "execute_result"
    }
   ],
   "source": [
    "wire_coordinates, intersections, closest_intersection = eval_wires(data)\n",
    "find_min_intersection_steps(wire_coordinates, intersections)"
   ]
  },
  {
   "cell_type": "markdown",
   "metadata": {
    "Collapsed": "true"
   },
   "source": [
    "### Day 4"
   ]
  },
  {
   "cell_type": "markdown",
   "metadata": {
    "Collapsed": "false"
   },
   "source": [
    "#### Part 1"
   ]
  },
  {
   "cell_type": "code",
   "execution_count": 2,
   "metadata": {
    "Collapsed": "false"
   },
   "outputs": [],
   "source": [
    "data = range(178416, 676462)"
   ]
  },
  {
   "cell_type": "code",
   "execution_count": 3,
   "metadata": {
    "Collapsed": "false"
   },
   "outputs": [],
   "source": [
    "def check_valid(pwd):\n",
    "    pwd_str = str(pwd)\n",
    "    has_double = False\n",
    "    for idx, char in enumerate(pwd_str):\n",
    "        if idx == 0:\n",
    "            pass\n",
    "        else:\n",
    "            if pwd_str[idx-1] > pwd_str[idx]:\n",
    "                return False\n",
    "            if not has_double and pwd_str[idx-1] == pwd_str[idx]:\n",
    "                has_double = True\n",
    "    return True if has_double else False"
   ]
  },
  {
   "cell_type": "code",
   "execution_count": 4,
   "metadata": {
    "Collapsed": "false"
   },
   "outputs": [],
   "source": [
    "assert check_valid(111111) == True\n",
    "assert check_valid(223450) == False\n",
    "assert check_valid(123789) == False"
   ]
  },
  {
   "cell_type": "markdown",
   "metadata": {
    "Collapsed": "false"
   },
   "source": [
    "**Answer**"
   ]
  },
  {
   "cell_type": "code",
   "execution_count": 5,
   "metadata": {
    "Collapsed": "false"
   },
   "outputs": [
    {
     "data": {
      "text/plain": [
       "1650"
      ]
     },
     "execution_count": 5,
     "metadata": {},
     "output_type": "execute_result"
    }
   ],
   "source": [
    "valids = []\n",
    "for pwd in data:\n",
    "    if check_valid(pwd):\n",
    "        valids.append(pwd)\n",
    "        \n",
    "len(valids)"
   ]
  },
  {
   "cell_type": "markdown",
   "metadata": {
    "Collapsed": "false"
   },
   "source": [
    "#### Part 2"
   ]
  },
  {
   "cell_type": "code",
   "execution_count": 13,
   "metadata": {
    "Collapsed": "false"
   },
   "outputs": [],
   "source": [
    "def check_exact_repeat(valid_pwd):\n",
    "    pwd_str = str(valid_pwd)\n",
    "    has_exact_double = False\n",
    "    for idx, char in enumerate(pwd_str):\n",
    "        if idx is 0:\n",
    "            pass\n",
    "        else:\n",
    "            if not has_exact_double and pwd_str[idx-1] == pwd_str[idx]:\n",
    "                # look ahead\n",
    "                if idx == 1:\n",
    "                    if pwd_str[idx+1] != pwd_str[idx]:\n",
    "                        has_exact_double = True\n",
    "                # look behind\n",
    "                elif idx == 5:\n",
    "                    if pwd_str[idx-2] != pwd_str[idx]:\n",
    "                        has_exact_double = True\n",
    "                # look behind and ahead\n",
    "                else:\n",
    "                    if pwd_str[idx+1] != pwd_str[idx] and pwd_str[idx-2] != pwd_str[idx]:\n",
    "                        has_exact_double = True\n",
    "                        \n",
    "    return has_exact_double"
   ]
  },
  {
   "cell_type": "code",
   "execution_count": 14,
   "metadata": {
    "Collapsed": "false"
   },
   "outputs": [],
   "source": [
    "assert check_exact_repeat(112233) == True\n",
    "assert check_exact_repeat(123444) == False\n",
    "assert check_exact_repeat(111122) == True"
   ]
  },
  {
   "cell_type": "markdown",
   "metadata": {
    "Collapsed": "false"
   },
   "source": [
    "**Answer**"
   ]
  },
  {
   "cell_type": "code",
   "execution_count": 19,
   "metadata": {
    "Collapsed": "false"
   },
   "outputs": [
    {
     "data": {
      "text/plain": [
       "1129"
      ]
     },
     "execution_count": 19,
     "metadata": {},
     "output_type": "execute_result"
    }
   ],
   "source": [
    "valids2 = []\n",
    "for valid_pwd in valids:\n",
    "    if check_exact_repeat(valid_pwd):\n",
    "        valids2.append(valid_pwd)\n",
    "        \n",
    "len(valids2)"
   ]
  },
  {
   "cell_type": "markdown",
   "metadata": {
    "Collapsed": "true"
   },
   "source": [
    "### Day 5"
   ]
  },
  {
   "cell_type": "code",
   "execution_count": 168,
   "metadata": {
    "Collapsed": "false"
   },
   "outputs": [],
   "source": [
    "data = load_input(5, ',')\n",
    "data = [int(dp) for dp in data]"
   ]
  },
  {
   "cell_type": "markdown",
   "metadata": {
    "Collapsed": "false"
   },
   "source": [
    "#### Part 1"
   ]
  },
  {
   "cell_type": "code",
   "execution_count": 157,
   "metadata": {
    "Collapsed": "false"
   },
   "outputs": [],
   "source": [
    "def eval_input(program, idx, inpt):\n",
    "    program[program[idx+1]] = inpt\n",
    "    idx += 2\n",
    "    return program, idx\n",
    "    \n",
    "def eval_output(program, idx):\n",
    "    instruction = str(program[idx]).zfill(3)\n",
    "    if instruction[0] == '1':\n",
    "        print(f'Diagnostic: {program[idx+1]}')\n",
    "    else:\n",
    "        print(f'Diagnostic: {program[program[idx+1]]}')\n",
    "    idx += 2\n",
    "    return program, idx\n",
    "    \n",
    "def eval_multiply(program, idx):\n",
    "    instruction = str(program[idx]).zfill(4)\n",
    "    nodes = instruction[:-2][::-1]\n",
    "    inputs = [program[program[idx+i+1]] if node == '0' else program[idx+i+1] for i, node in enumerate(nodes)]\n",
    "    program[program[idx+3]] = int(np.product(inputs))\n",
    "    idx += 4\n",
    "    return program, idx\n",
    "\n",
    "def eval_addition(program, idx):\n",
    "    instruction = str(program[idx]).zfill(4)\n",
    "    nodes = instruction[:-2][::-1]\n",
    "    inputs = [program[program[idx+i+1]] if node == '0' else program[idx+i+1] for i, node in enumerate(nodes)]\n",
    "    program[program[idx+3]] = int(np.sum(inputs))\n",
    "    idx += 4\n",
    "    return program, idx\n",
    "    \n",
    "def eval_program(program, inpt):\n",
    "    idx = 0\n",
    "    termination_flag = False\n",
    "    while termination_flag == False:\n",
    "        instruction = str(program[idx])\n",
    "        if instruction == '99':\n",
    "            termination_flag = True\n",
    "        elif instruction[-1] == '1':\n",
    "            program, idx = eval_addition(program, idx)\n",
    "        elif instruction[-1] == '2':\n",
    "            program, idx = eval_multiply(program, idx)\n",
    "        elif instruction == '3':\n",
    "            program, idx = eval_input(program, idx, inpt)\n",
    "        elif instruction[-1] == '4':\n",
    "            program, idx = eval_output(program, idx)\n",
    "        else:\n",
    "            print('unknown operation')\n",
    "            termination_flag = True    "
   ]
  },
  {
   "cell_type": "markdown",
   "metadata": {
    "Collapsed": "false"
   },
   "source": [
    "**Answer**"
   ]
  },
  {
   "cell_type": "code",
   "execution_count": 158,
   "metadata": {
    "Collapsed": "false"
   },
   "outputs": [
    {
     "name": "stdout",
     "output_type": "stream",
     "text": [
      "Diagnostic: 0\n",
      "Diagnostic: 0\n",
      "Diagnostic: 0\n",
      "Diagnostic: 0\n",
      "Diagnostic: 0\n",
      "Diagnostic: 0\n",
      "Diagnostic: 0\n",
      "Diagnostic: 0\n",
      "Diagnostic: 0\n",
      "Diagnostic: 4887191\n"
     ]
    }
   ],
   "source": [
    "eval_program(data.copy(), 1)"
   ]
  },
  {
   "cell_type": "markdown",
   "metadata": {
    "Collapsed": "false"
   },
   "source": [
    "#### Part 2"
   ]
  },
  {
   "cell_type": "code",
   "execution_count": 171,
   "metadata": {
    "Collapsed": "false"
   },
   "outputs": [],
   "source": [
    "def eval_jump_if_true(program, idx):\n",
    "    instruction = str(program[idx]).zfill(4)\n",
    "    nodes = instruction[:-2][::-1]\n",
    "    inputs = [program[program[idx+i+1]] if node == '0' else program[idx+i+1] for i, node in enumerate(nodes)]\n",
    "    if inputs[0] != 0:\n",
    "        idx = inputs[1]\n",
    "    else:\n",
    "        idx += 3\n",
    "    return program, idx\n",
    "\n",
    "def eval_jump_if_false(program, idx):\n",
    "    instruction = str(program[idx]).zfill(4)\n",
    "    nodes = instruction[:-2][::-1]\n",
    "    inputs = [program[program[idx+i+1]] if node == '0' else program[idx+i+1] for i, node in enumerate(nodes)]\n",
    "    if inputs[0] == 0:\n",
    "        idx = inputs[1]\n",
    "    else:\n",
    "        idx += 3\n",
    "    return program, idx\n",
    "\n",
    "def eval_less_than(program, idx):\n",
    "    instruction = str(program[idx]).zfill(4)\n",
    "    nodes = instruction[:-2][::-1]\n",
    "    inputs = [program[program[idx+i+1]] if node == '0' else program[idx+i+1] for i, node in enumerate(nodes)]\n",
    "    program[program[idx+3]] = 1 if inputs[0] < inputs[1] else 0\n",
    "    idx += 4\n",
    "    return program, idx\n",
    "\n",
    "def eval_equals(program, idx):\n",
    "    instruction = str(program[idx]).zfill(4)\n",
    "    nodes = instruction[:-2][::-1]\n",
    "    inputs = [program[program[idx+i+1]] if node == '0' else program[idx+i+1] for i, node in enumerate(nodes)]\n",
    "    program[program[idx+3]] = 1 if inputs[0] == inputs[1] else 0\n",
    "    idx += 4\n",
    "    return program, idx\n",
    "\n",
    "def eval_program(program, inpt):\n",
    "    idx = 0\n",
    "    termination_flag = False\n",
    "    while termination_flag == False:\n",
    "        if program[idx] == 99:\n",
    "            print('terminating')\n",
    "            termination_flag = True\n",
    "        else:\n",
    "            instruction = str(program[idx])[-1]\n",
    "            if instruction == '1':\n",
    "                program, idx = eval_addition(program, idx)\n",
    "            elif instruction == '2':\n",
    "                program, idx = eval_multiply(program, idx)\n",
    "            elif instruction == '3':\n",
    "                program, idx = eval_input(program, idx, inpt)\n",
    "            elif instruction == '4':\n",
    "                program, idx = eval_output(program, idx)\n",
    "            elif instruction == '5':\n",
    "                program, idx = eval_jump_if_true(program, idx)\n",
    "            elif instruction == '6':\n",
    "                program, idx = eval_jump_if_false(program, idx)\n",
    "            elif instruction == '7':\n",
    "                program, idx = eval_less_than(program, idx)\n",
    "            elif instruction == '8':\n",
    "                program, idx = eval_equals(program, idx)\n",
    "            else:\n",
    "                print('unknown operation')\n",
    "                termination_flag = True    "
   ]
  },
  {
   "cell_type": "markdown",
   "metadata": {
    "Collapsed": "false"
   },
   "source": [
    "**Answer**"
   ]
  },
  {
   "cell_type": "code",
   "execution_count": 172,
   "metadata": {
    "Collapsed": "false"
   },
   "outputs": [
    {
     "name": "stdout",
     "output_type": "stream",
     "text": [
      "Diagnostic: 3419022\n",
      "terminating\n"
     ]
    }
   ],
   "source": [
    "eval_program(data.copy(), 5)"
   ]
  },
  {
   "cell_type": "markdown",
   "metadata": {
    "Collapsed": "true"
   },
   "source": [
    "### Day 6"
   ]
  },
  {
   "cell_type": "code",
   "execution_count": 48,
   "metadata": {
    "Collapsed": "false"
   },
   "outputs": [],
   "source": [
    "import networkx as nx"
   ]
  },
  {
   "cell_type": "code",
   "execution_count": 4,
   "metadata": {
    "Collapsed": "false"
   },
   "outputs": [
    {
     "data": {
      "text/plain": [
       "['WLW)5M5', 'JG6)3KF']"
      ]
     },
     "execution_count": 4,
     "metadata": {},
     "output_type": "execute_result"
    }
   ],
   "source": [
    "data = load_input(6, '\\n')\n",
    "data = data[:-1]\n",
    "data[0:2]"
   ]
  },
  {
   "cell_type": "markdown",
   "metadata": {
    "Collapsed": "true"
   },
   "source": [
    "#### Part 1"
   ]
  },
  {
   "cell_type": "code",
   "execution_count": 62,
   "metadata": {
    "Collapsed": "false"
   },
   "outputs": [],
   "source": [
    "def build_orbits_dict(data):\n",
    "    orbits = {orbit.split(')')[0] : [] for orbit in data}\n",
    "    for orbit in data:\n",
    "        orbit = orbit.split(')')\n",
    "        orbits[orbit[0]].append(orbit[1])\n",
    "    return orbits"
   ]
  },
  {
   "cell_type": "code",
   "execution_count": 63,
   "metadata": {
    "Collapsed": "false"
   },
   "outputs": [],
   "source": [
    "d1 = [\n",
    "    'COM)B',\n",
    "    'B)C',\n",
    "    'C)D',\n",
    "    'D)E',\n",
    "    'E)F',\n",
    "    'B)G',\n",
    "    'G)H',\n",
    "    'D)I',\n",
    "    'E)J',\n",
    "    'J)K',\n",
    "    'K)L'\n",
    "]"
   ]
  },
  {
   "cell_type": "code",
   "execution_count": 64,
   "metadata": {
    "Collapsed": "false"
   },
   "outputs": [],
   "source": [
    "orbz = build_orbits_dict(d1)"
   ]
  },
  {
   "cell_type": "code",
   "execution_count": 65,
   "metadata": {
    "Collapsed": "false"
   },
   "outputs": [
    {
     "data": {
      "text/plain": [
       "{'COM': ['B'],\n",
       " 'B': ['C', 'G'],\n",
       " 'C': ['D'],\n",
       " 'D': ['E', 'I'],\n",
       " 'E': ['F', 'J'],\n",
       " 'G': ['H'],\n",
       " 'J': ['K'],\n",
       " 'K': ['L']}"
      ]
     },
     "execution_count": 65,
     "metadata": {},
     "output_type": "execute_result"
    }
   ],
   "source": [
    "orbz"
   ]
  },
  {
   "cell_type": "code",
   "execution_count": 66,
   "metadata": {
    "Collapsed": "false"
   },
   "outputs": [],
   "source": [
    "graph = nx.DiGraph(orbz)"
   ]
  },
  {
   "cell_type": "code",
   "execution_count": 74,
   "metadata": {
    "Collapsed": "false"
   },
   "outputs": [],
   "source": [
    "def find_root_nodes(orbits):\n",
    "    return list(set(orbits.keys()).difference(set([item for sublist in list(orbits.values()) for item in sublist])))"
   ]
  },
  {
   "cell_type": "code",
   "execution_count": 68,
   "metadata": {
    "Collapsed": "false"
   },
   "outputs": [],
   "source": [
    "root_nodes = find_root_nodes(orbz)"
   ]
  },
  {
   "cell_type": "code",
   "execution_count": 69,
   "metadata": {
    "Collapsed": "false"
   },
   "outputs": [],
   "source": [
    "def sum_orbits(graph, root_node):\n",
    "    return np.sum([len(nx.shortest_path(graph, root_node, node))-1 for node in graph.nodes])"
   ]
  },
  {
   "cell_type": "code",
   "execution_count": 70,
   "metadata": {
    "Collapsed": "false"
   },
   "outputs": [
    {
     "data": {
      "text/plain": [
       "['COM']"
      ]
     },
     "execution_count": 70,
     "metadata": {},
     "output_type": "execute_result"
    }
   ],
   "source": [
    "root_nodes"
   ]
  },
  {
   "cell_type": "code",
   "execution_count": 71,
   "metadata": {
    "Collapsed": "false"
   },
   "outputs": [
    {
     "data": {
      "text/plain": [
       "42"
      ]
     },
     "execution_count": 71,
     "metadata": {},
     "output_type": "execute_result"
    }
   ],
   "source": [
    "sum_orbits(graph, root_nodes[0])"
   ]
  },
  {
   "cell_type": "markdown",
   "metadata": {
    "Collapsed": "false"
   },
   "source": [
    "**Answer**"
   ]
  },
  {
   "cell_type": "code",
   "execution_count": 79,
   "metadata": {
    "Collapsed": "false"
   },
   "outputs": [
    {
     "data": {
      "text/plain": [
       "135690"
      ]
     },
     "execution_count": 79,
     "metadata": {},
     "output_type": "execute_result"
    }
   ],
   "source": [
    "orbits = build_orbits_dict(data)\n",
    "graph = nx.DiGraph(orbits)\n",
    "root_nodes = find_root_nodes(orbits)\n",
    "assert len(root_nodes) == 1\n",
    "sum_orbits(graph, root_nodes[0])"
   ]
  },
  {
   "cell_type": "markdown",
   "metadata": {
    "Collapsed": "true"
   },
   "source": [
    "#### Part 2"
   ]
  },
  {
   "cell_type": "code",
   "execution_count": 95,
   "metadata": {
    "Collapsed": "false"
   },
   "outputs": [],
   "source": [
    "def shortest_path_to_santa(graph):\n",
    "    assert 'YOU' in graph.nodes\n",
    "    assert 'SAN' in graph.nodes\n",
    "    return len(nx.shortest_path(graph, 'YOU', 'SAN'))-3"
   ]
  },
  {
   "cell_type": "code",
   "execution_count": 96,
   "metadata": {
    "Collapsed": "false"
   },
   "outputs": [],
   "source": [
    "d1 = [\n",
    "    'COM)B',\n",
    "    'B)C',\n",
    "    'C)D',\n",
    "    'D)E',\n",
    "    'E)F',\n",
    "    'B)G',\n",
    "    'G)H',\n",
    "    'D)I',\n",
    "    'E)J',\n",
    "    'J)K',\n",
    "    'K)L',\n",
    "    'K)YOU',\n",
    "    'I)SAN'\n",
    "]"
   ]
  },
  {
   "cell_type": "code",
   "execution_count": 97,
   "metadata": {
    "Collapsed": "false"
   },
   "outputs": [
    {
     "data": {
      "text/plain": [
       "4"
      ]
     },
     "execution_count": 97,
     "metadata": {},
     "output_type": "execute_result"
    }
   ],
   "source": [
    "orbits = build_orbits_dict(d1)\n",
    "graph = nx.Graph(orbits)\n",
    "shortest_path_to_santa(graph)"
   ]
  },
  {
   "cell_type": "markdown",
   "metadata": {
    "Collapsed": "false"
   },
   "source": [
    "**Answer**"
   ]
  },
  {
   "cell_type": "code",
   "execution_count": 98,
   "metadata": {},
   "outputs": [
    {
     "data": {
      "text/plain": [
       "298"
      ]
     },
     "execution_count": 98,
     "metadata": {},
     "output_type": "execute_result"
    }
   ],
   "source": [
    "orbits = build_orbits_dict(data)\n",
    "graph = nx.Graph(orbits)\n",
    "shortest_path_to_santa(graph)"
   ]
  },
  {
   "cell_type": "markdown",
   "metadata": {
    "Collapsed": "false"
   },
   "source": [
    "### Day 7"
   ]
  },
  {
   "cell_type": "code",
   "execution_count": null,
   "metadata": {
    "Collapsed": "false"
   },
   "outputs": [],
   "source": []
  }
 ],
 "metadata": {
  "kernelspec": {
   "display_name": "Python [conda env:root] *",
   "language": "python",
   "name": "conda-root-py"
  },
  "language_info": {
   "codemirror_mode": {
    "name": "ipython",
    "version": 3
   },
   "file_extension": ".py",
   "mimetype": "text/x-python",
   "name": "python",
   "nbconvert_exporter": "python",
   "pygments_lexer": "ipython3",
   "version": "3.7.3"
  }
 },
 "nbformat": 4,
 "nbformat_minor": 4
}
